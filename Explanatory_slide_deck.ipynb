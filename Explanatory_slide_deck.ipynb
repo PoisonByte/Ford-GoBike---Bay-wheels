{
 "cells": [
  {
   "cell_type": "markdown",
   "metadata": {
    "slideshow": {
     "slide_type": "slide"
    },
    "tags": [
     "{",
     "\"tags\":",
     "[",
     "\"to_remove\"",
     "]",
     "\"slideshow\":",
     "\"slide_type\":",
     "\"fragment\"",
     "}"
    ]
   },
   "source": [
    "# Ford GoBike System\n",
    "## by Serena Zatara"
   ]
  },
  {
   "cell_type": "markdown",
   "metadata": {
    "slideshow": {
     "slide_type": "subslide"
    },
    "tags": [
     "{",
     "\"tags\":",
     "[",
     "\"to_remove\"",
     "]",
     "\"slideshow\":",
     "\"slide_type\":",
     "\"fragment\"",
     "}"
    ]
   },
   "source": [
    "## Investigation Overview\n",
    "\n",
    "> This document will explore the Ford GoBike's trip data for public containing approximately 295,854 bike rides for January 2020. \"With a Ford GoBike membership, you get the first 45 minutes free, not just the first 30.\" With this report this will be an analysis of membership/subscriber usage and the duration of usuage for the launch of Ford GoBike now under Baywheels for 2020.\n",
    "\n",
    "## Dataset Overview\n",
    "\n",
    "> After viewing this presentation you will obtain the first month report for 2020. This will help review Subscriber enrollment and bike duration for the month based on day to day use. "
   ]
  },
  {
   "cell_type": "markdown",
   "metadata": {
    "slideshow": {
     "slide_type": "slide"
    },
    "tags": [
     "{",
     "\"tags\":",
     "[",
     "\"to_remove\"",
     "]",
     "\"slideshow\":",
     "\"slide_type\":",
     "\"fragment\"",
     "}"
    ]
   },
   "source": [
    "## Ford GoBike - Baywheels January 2020 Report"
   ]
  },
  {
   "cell_type": "markdown",
   "metadata": {
    "slideshow": {
     "slide_type": "subslide"
    },
    "tags": [
     "{",
     "\"tags\":",
     "[",
     "\"to_remove\"",
     "]",
     "\"slideshow\":",
     "\"slide_type\":",
     "\"fragment\"",
     "}"
    ]
   },
   "source": [
    "## January 2020 Report Agend\n",
    "\n",
    "### 1. Weekday bike usage\n",
    "### 2. Bike trip duration by minutes\n",
    "### 3. The Count of Customers vs Subscribers\n",
    "### 4. Customer vs Subscriber usage per weekday\n",
    "### 5. Percentage of bike rides per weekday\n",
    "### 6. Ford GoBike- Baywheels most popular start and end destinations"
   ]
  },
  {
   "cell_type": "markdown",
   "metadata": {
    "slideshow": {
     "slide_type": "slide"
    },
    "tags": [
     "{",
     "\"tags\":",
     "[",
     "\"to_remove\"",
     "]",
     "\"slideshow\":",
     "\"slide_type\":",
     "\"fragment\"",
     "}"
    ]
   },
   "source": [
    "## Weekday bike usage"
   ]
  },
  {
   "cell_type": "code",
   "execution_count": 13,
   "metadata": {
    "hideCode": false,
    "hideOutput": true,
    "hidePrompt": true,
    "slideshow": {
     "slide_type": "skip"
    }
   },
   "outputs": [],
   "source": [
    "import pandas as pd\n",
    "import numpy as np\n",
    "import matplotlib\n",
    "from matplotlib import pyplot as plt\n",
    "import matplotlib.ticker as tick\n",
    "import seaborn as sb\n",
    "import datetime\n",
    "import math\n",
    "import calendar\n",
    "from requests import get\n",
    "import os\n",
    "import glob\n",
    "import io\n",
    "\n",
    "\n",
    "from IPython.display import Image\n",
    "\n",
    "from bokeh.io import output_file, show, output_notebook\n",
    "from bokeh.models import ColumnDataSource, GMapOptions\n",
    "from bokeh.plotting import gmap, figure\n",
    "\n",
    "%matplotlib inline\n",
    "\n",
    "# suppress warnings from final output\n",
    "import warnings\n",
    "warnings.simplefilter(\"ignore\")\n",
    "\n",
    "bikes_df_clean = pd.read_csv('bikes_df_clean.csv')"
   ]
  },
  {
   "cell_type": "raw",
   "metadata": {
    "hideCode": true,
    "hidePrompt": true,
    "slideshow": {
     "slide_type": "skip"
    },
    "tags": [
     "{",
     "\"tags\":",
     "[",
     "\"to_remove\"",
     "]",
     "\"slideshow\":",
     "\"slide_type\":",
     "\"fragment\"",
     "}"
    ]
   },
   "source": [
    "bikes_df_clean = pd.read_csv('bikes_df_clean.csv')\n",
    "from IPython.display import HTML\n",
    "\n"
   ]
  },
  {
   "cell_type": "code",
   "execution_count": 23,
   "metadata": {
    "hideCode": false,
    "hidePrompt": true,
    "scrolled": true,
    "slideshow": {
     "slide_type": "slide"
    },
    "tags": [
     "{",
     "\"tags\":",
     "[",
     "\"remove_input\"",
     "]",
     "}"
    ]
   },
   "outputs": [
    {
     "data": {
      "text/html": [
       "<script>\n",
       "code_show=true; \n",
       "function code_toggle() {\n",
       " if (code_show){\n",
       " $('div.input').hide();\n",
       " } else {\n",
       " $('div.input').show();\n",
       " }\n",
       " code_show = !code_show\n",
       "} \n",
       "$( document ).ready(code_toggle);\n",
       "</script>\n",
       "<form action=\"javascript:code_toggle()\"><input type=\"submit\" value=\"Click here to toggle on/off the raw code.\"></form>"
      ],
      "text/plain": [
       "<IPython.core.display.HTML object>"
      ]
     },
     "execution_count": 23,
     "metadata": {},
     "output_type": "execute_result"
    },
    {
     "data": {
      "image/png": "[encoded data removed]",
      "text/plain": [
       "<Figure size 360x360 with 1 Axes>"
      ]
     },
     "metadata": {
      "needs_background": "light"
     },
     "output_type": "display_data"
    }
   ],
   "source": [
    "# create a list for weekday which we will use through out the exploration\n",
    "base_color = sb.color_palette()[7]\n",
    "weekday = ['Mon', 'Tue', 'Wed', 'Thu', 'Fri', 'Sat', 'Sun']\n",
    "# plot start time usage\n",
    "g = sb.catplot(data=bikes_df_clean, x='start_time_weekday', kind='count', color = base_color, order = weekday)\n",
    "g.set_axis_labels(\"Weekdays\", \"Bike users\")\n",
    "g.fig.suptitle('Weekday bike usage', y=1.03, fontsize=14, fontweight='semibold');\n",
    "from IPython.display import HTML\n",
    "\n",
    "HTML('''<script>\n",
    "code_show=true; \n",
    "function code_toggle() {\n",
    " if (code_show){\n",
    " $('div.input').hide();\n",
    " } else {\n",
    " $('div.input').show();\n",
    " }\n",
    " code_show = !code_show\n",
    "} \n",
    "$( document ).ready(code_toggle);\n",
    "</script>\n",
    "<form action=\"javascript:code_toggle()\"><input type=\"submit\" value=\"Click here to toggle on/off the raw code.\"></form>''')"
   ]
  },
  {
   "cell_type": "markdown",
   "metadata": {
    "slideshow": {
     "slide_type": "subslide"
    },
    "tags": [
     "{",
     "\"tags\":",
     "[",
     "\"to_remove\"",
     "]",
     "\"slideshow\":",
     "\"slide_type\":",
     "\"fragment\"",
     "}"
    ]
   },
   "source": [
    "## Weekday usage shows mid week spikes\n",
    "\n",
    "### 1. Friday\n",
    "### 2. Wednesday\n",
    "### 3. Thursday"
   ]
  },
  {
   "cell_type": "markdown",
   "metadata": {
    "hideCode": false,
    "slideshow": {
     "slide_type": "slide"
    },
    "tags": [
     "{",
     "\"tags\":",
     "[",
     "\"to_remove\"",
     "]",
     "\"slideshow\":",
     "\"slide_type\":",
     "\"fragment\"",
     "}"
    ]
   },
   "source": [
    "## The Duration of how long bike were used for the month"
   ]
  },
  {
   "cell_type": "code",
   "execution_count": 15,
   "metadata": {
    "hideCode": false,
    "hidePrompt": false,
    "slideshow": {
     "slide_type": "slide"
    },
    "tags": [
     "{",
     "\"tags\":",
     "[",
     "\"to_remove\"",
     "]",
     "\"slideshow\":",
     "\"slide_type\":",
     "\"fragment\"",
     "}"
    ]
   },
   "outputs": [
    {
     "data": {
      "image/png": "[encoded data removed]",
      "text/plain": [
       "<Figure size 432x288 with 1 Axes>"
      ]
     },
     "metadata": {
      "needs_background": "light"
     },
     "output_type": "display_data"
    },
    {
     "data": {
      "text/html": [
       "<script>\n",
       "code_show=true; \n",
       "function code_toggle() {\n",
       " if (code_show){\n",
       " $('div.input').hide();\n",
       " } else {\n",
       " $('div.input').show();\n",
       " }\n",
       " code_show = !code_show\n",
       "} \n",
       "$( document ).ready(code_toggle);\n",
       "</script>\n",
       "<form action=\"javascript:code_toggle()\"><input type=\"submit\" value=\"Click here to toggle on/off the raw code.\"></form>"
      ],
      "text/plain": [
       "<IPython.core.display.HTML object>"
      ]
     },
     "execution_count": 15,
     "metadata": {},
     "output_type": "execute_result"
    }
   ],
   "source": [
    "#plotting a hist for duration of minutes\n",
    "bins = np.arange(0, bikes_df_clean['duration_min'].max()+1, 1)\n",
    "plt.hist(data = bikes_df_clean, x = 'duration_min', bins = bins)\n",
    "plt.xlim([0,40])\n",
    "plt.title(\"Trip duration Minutes \", y=1.03, fontsize=14, fontweight='semibold')\n",
    "plt.xlabel('Bike Time Duration in Minutes')\n",
    "plt.ylabel('Duration ')\n",
    "plt.show()\n",
    "from IPython.display import HTML\n",
    "\n",
    "HTML('''<script>\n",
    "code_show=true; \n",
    "function code_toggle() {\n",
    " if (code_show){\n",
    " $('div.input').hide();\n",
    " } else {\n",
    " $('div.input').show();\n",
    " }\n",
    " code_show = !code_show\n",
    "} \n",
    "$( document ).ready(code_toggle);\n",
    "</script>\n",
    "<form action=\"javascript:code_toggle()\"><input type=\"submit\" value=\"Click here to toggle on/off the raw code.\"></form>''')"
   ]
  },
  {
   "cell_type": "markdown",
   "metadata": {
    "slideshow": {
     "slide_type": "subslide"
    },
    "tags": [
     "{",
     "\"tags\":",
     "[",
     "\"to_remove\"",
     "]",
     "\"slideshow\":",
     "\"slide_type\":",
     "\"fragment\"",
     "}"
    ]
   },
   "source": [
    "### Duration shows that user's had a mean of 13 min per bike ride"
   ]
  },
  {
   "cell_type": "markdown",
   "metadata": {
    "slideshow": {
     "slide_type": "slide"
    },
    "tags": [
     "{",
     "\"tags\":",
     "[",
     "\"to_remove\"",
     "]",
     "\"slideshow\":",
     "\"slide_type\":",
     "\"fragment\"",
     "}"
    ]
   },
   "source": [
    "## Duration start and end duration per user per weekday"
   ]
  },
  {
   "cell_type": "code",
   "execution_count": 16,
   "metadata": {
    "hideCode": false,
    "hidePrompt": true,
    "slideshow": {
     "slide_type": "subslide"
    },
    "tags": [
     "{",
     "\"tags\":",
     "[",
     "\"to_remove\"",
     "]",
     "\"slideshow\":",
     "\"slide_type\":",
     "\"fragment\"",
     "}"
    ]
   },
   "outputs": [
    {
     "data": {
      "text/html": [
       "<script>\n",
       "code_show=true; \n",
       "function code_toggle() {\n",
       " if (code_show){\n",
       " $('div.input').hide();\n",
       " } else {\n",
       " $('div.input').show();\n",
       " }\n",
       " code_show = !code_show\n",
       "} \n",
       "$( document ).ready(code_toggle);\n",
       "</script>\n",
       "<form action=\"javascript:code_toggle()\"><input type=\"submit\" value=\"Click here to toggle on/off the raw code.\"></form>"
      ],
      "text/plain": [
       "<IPython.core.display.HTML object>"
      ]
     },
     "execution_count": 16,
     "metadata": {},
     "output_type": "execute_result"
    },
    {
     "data": {
      "image/png": "[encoded data removed]",
      "text/plain": [
       "<Figure size 432x288 with 1 Axes>"
      ]
     },
     "metadata": {
      "needs_background": "light"
     },
     "output_type": "display_data"
    }
   ],
   "source": [
    "#Take start time, minutes durations and user type to plot\n",
    "weekday = ['Mon', 'Tue', 'Wed', 'Thu', 'Fri', 'Sat', 'Sun']\n",
    "sb.pointplot(data = bikes_df_clean, x = 'start_time_weekday', y= 'duration_min', hue = 'user_type',\n",
    "            ci = 'sd', linestyles =\"\", dodge = True);\n",
    "plt.xticks(rotation = 15);\n",
    "plt.title('Start duration of User Type per weekday by minutes', fontsize=22, y=1.015)\n",
    "plt.xlabel('weekday', labelpad=16)\n",
    "plt.ylabel('Minutes', labelpad=16);\n",
    "\n",
    "from IPython.display import HTML\n",
    "\n",
    "HTML('''<script>\n",
    "code_show=true; \n",
    "function code_toggle() {\n",
    " if (code_show){\n",
    " $('div.input').hide();\n",
    " } else {\n",
    " $('div.input').show();\n",
    " }\n",
    " code_show = !code_show\n",
    "} \n",
    "$( document ).ready(code_toggle);\n",
    "</script>\n",
    "<form action=\"javascript:code_toggle()\"><input type=\"submit\" value=\"Click here to toggle on/off the raw code.\"></form>''')"
   ]
  },
  {
   "cell_type": "code",
   "execution_count": 17,
   "metadata": {
    "hideCode": false,
    "hidePrompt": true,
    "slideshow": {
     "slide_type": "subslide"
    },
    "tags": [
     "{",
     "\"tags\":",
     "[",
     "\"to_remove\"",
     "]",
     "\"slideshow\":",
     "\"slide_type\":",
     "\"fragment\"",
     "}"
    ]
   },
   "outputs": [
    {
     "data": {
      "text/html": [
       "<script>\n",
       "code_show=true; \n",
       "function code_toggle() {\n",
       " if (code_show){\n",
       " $('div.input').hide();\n",
       " } else {\n",
       " $('div.input').show();\n",
       " }\n",
       " code_show = !code_show\n",
       "} \n",
       "$( document ).ready(code_toggle);\n",
       "</script>\n",
       "<form action=\"javascript:code_toggle()\"><input type=\"submit\" value=\"Click here to toggle on/off the raw code.\"></form>"
      ],
      "text/plain": [
       "<IPython.core.display.HTML object>"
      ]
     },
     "execution_count": 17,
     "metadata": {},
     "output_type": "execute_result"
    },
    {
     "data": {
      "image/png": "[encoded data removed]",
      "text/plain": [
       "<Figure size 432x288 with 1 Axes>"
      ]
     },
     "metadata": {
      "needs_background": "light"
     },
     "output_type": "display_data"
    }
   ],
   "source": [
    "#Take end time, minutes durations and user type to plot\n",
    "weekday = ['Mon', 'Tue', 'Wed', 'Thu', 'Fri', 'Sat', 'Sun']\n",
    "sb.pointplot(data = bikes_df_clean, x = 'end_time_weekday', y= 'duration_min', hue = 'user_type',\n",
    "            ci = 'sd', linestyles =\"\", dodge = True);\n",
    "plt.xticks(rotation = 15);\n",
    "plt.title('End duration of User Type per weekday by minutes', fontsize=22, y=1.015)\n",
    "plt.xlabel('weekday', labelpad=16)\n",
    "plt.ylabel('Minutes', labelpad=16);\n",
    "from IPython.display import HTML\n",
    "\n",
    "HTML('''<script>\n",
    "code_show=true; \n",
    "function code_toggle() {\n",
    " if (code_show){\n",
    " $('div.input').hide();\n",
    " } else {\n",
    " $('div.input').show();\n",
    " }\n",
    " code_show = !code_show\n",
    "} \n",
    "$( document ).ready(code_toggle);\n",
    "</script>\n",
    "<form action=\"javascript:code_toggle()\"><input type=\"submit\" value=\"Click here to toggle on/off the raw code.\"></form>''')"
   ]
  },
  {
   "cell_type": "markdown",
   "metadata": {
    "slideshow": {
     "slide_type": "subslide"
    },
    "tags": [
     "{",
     "\"tags\":",
     "[",
     "\"to_remove\"",
     "]",
     "\"slideshow\":",
     "\"slide_type\":",
     "\"fragment\"",
     "}"
    ]
   },
   "source": [
    "### Higher duration of rentals by subscribers starting on Thursday and ending on Sunday."
   ]
  },
  {
   "cell_type": "markdown",
   "metadata": {
    "slideshow": {
     "slide_type": "slide"
    },
    "tags": [
     "{",
     "\"tags\":",
     "[",
     "\"to_remove\"",
     "]",
     "\"slideshow\":",
     "\"slide_type\":",
     "\"fragment\"",
     "}"
    ]
   },
   "source": [
    "## The Count of Customers vs Subscribers"
   ]
  },
  {
   "cell_type": "code",
   "execution_count": 18,
   "metadata": {
    "hideCode": false,
    "hidePrompt": true,
    "slideshow": {
     "slide_type": "slide"
    },
    "tags": [
     "{",
     "\"tags\":",
     "[",
     "\"to_remove\"",
     "]",
     "\"slideshow\":",
     "\"slide_type\":",
     "\"fragment\"",
     "}"
    ]
   },
   "outputs": [
    {
     "data": {
      "text/html": [
       "<script>\n",
       "code_show=true; \n",
       "function code_toggle() {\n",
       " if (code_show){\n",
       " $('div.input').hide();\n",
       " } else {\n",
       " $('div.input').show();\n",
       " }\n",
       " code_show = !code_show\n",
       "} \n",
       "$( document ).ready(code_toggle);\n",
       "</script>\n",
       "<form action=\"javascript:code_toggle()\"><input type=\"submit\" value=\"Click here to toggle on/off the raw code.\"></form>"
      ],
      "text/plain": [
       "<IPython.core.display.HTML object>"
      ]
     },
     "execution_count": 18,
     "metadata": {},
     "output_type": "execute_result"
    },
    {
     "data": {
      "image/png": "[encoded data removed]",
      "text/plain": [
       "<Figure size 432x288 with 1 Axes>"
      ]
     },
     "metadata": {
      "needs_background": "light"
     },
     "output_type": "display_data"
    }
   ],
   "source": [
    "#plotting the user_types\n",
    "sb.countplot(data=bikes_df_clean,x='user_type');\n",
    "plt.title('Customer vs Subscriber', fontsize=22, y=1.015);\n",
    "from IPython.display import HTML\n",
    "\n",
    "HTML('''<script>\n",
    "code_show=true; \n",
    "function code_toggle() {\n",
    " if (code_show){\n",
    " $('div.input').hide();\n",
    " } else {\n",
    " $('div.input').show();\n",
    " }\n",
    " code_show = !code_show\n",
    "} \n",
    "$( document ).ready(code_toggle);\n",
    "</script>\n",
    "<form action=\"javascript:code_toggle()\"><input type=\"submit\" value=\"Click here to toggle on/off the raw code.\"></form>''')"
   ]
  },
  {
   "cell_type": "markdown",
   "metadata": {
    "slideshow": {
     "slide_type": "subslide"
    },
    "tags": [
     "{",
     "\"tags\":",
     "[",
     "\"to_remove\"",
     "]",
     "\"slideshow\":",
     "\"slide_type\":",
     "\"fragment\"",
     "}"
    ]
   },
   "source": [
    "### Subscribers are more frequent at 170,988 vs Customers at 124,866, totalling in 295,854 bike rentals for the month!"
   ]
  },
  {
   "cell_type": "markdown",
   "metadata": {
    "slideshow": {
     "slide_type": "slide"
    },
    "tags": [
     "{",
     "\"tags\":",
     "[",
     "\"to_remove\"",
     "]",
     "\"slideshow\":",
     "\"slide_type\":",
     "\"fragment\"",
     "}"
    ]
   },
   "source": [
    "##  Customer vs Subscriber usage per weekday"
   ]
  },
  {
   "cell_type": "code",
   "execution_count": 19,
   "metadata": {
    "hideCode": false,
    "hidePrompt": true,
    "slideshow": {
     "slide_type": "slide"
    },
    "tags": [
     "{",
     "\"tags\":",
     "[",
     "\"to_remove\"",
     "]",
     "\"slideshow\":",
     "\"slide_type\":",
     "\"fragment\"",
     "}"
    ]
   },
   "outputs": [
    {
     "data": {
      "text/html": [
       "<script>\n",
       "code_show=true; \n",
       "function code_toggle() {\n",
       " if (code_show){\n",
       " $('div.input').hide();\n",
       " } else {\n",
       " $('div.input').show();\n",
       " }\n",
       " code_show = !code_show\n",
       "} \n",
       "$( document ).ready(code_toggle);\n",
       "</script>\n",
       "<form action=\"javascript:code_toggle()\"><input type=\"submit\" value=\"Click here to toggle on/off the raw code.\"></form>"
      ],
      "text/plain": [
       "<IPython.core.display.HTML object>"
      ]
     },
     "execution_count": 19,
     "metadata": {},
     "output_type": "execute_result"
    },
    {
     "data": {
      "image/png": "[encoded data removed]",
      "text/plain": [
       "<Figure size 720x360 with 2 Axes>"
      ]
     },
     "metadata": {
      "needs_background": "light"
     },
     "output_type": "display_data"
    }
   ],
   "source": [
    "\n",
    "base_color = sb.color_palette()[7]\n",
    "weekday = ['Mon', 'Tue', 'Wed', 'Thu', 'Fri', 'Sat', 'Sun']\n",
    "g = sb.catplot(data=bikes_df_clean, x='start_time_weekday', col=\"user_type\", kind='count', sharey = False,\n",
    "            color = base_color, order = weekday)\n",
    "g.set_axis_labels(\"Weekday\", \"Bike users\")\n",
    "g.set_titles(\"{col_name}\")\n",
    "g.fig.suptitle('Weekday bike usage per user type', y=1.03, fontsize=14, fontweight='semibold');\n",
    "from IPython.display import HTML\n",
    "\n",
    "HTML('''<script>\n",
    "code_show=true; \n",
    "function code_toggle() {\n",
    " if (code_show){\n",
    " $('div.input').hide();\n",
    " } else {\n",
    " $('div.input').show();\n",
    " }\n",
    " code_show = !code_show\n",
    "} \n",
    "$( document ).ready(code_toggle);\n",
    "</script>\n",
    "<form action=\"javascript:code_toggle()\"><input type=\"submit\" value=\"Click here to toggle on/off the raw code.\"></form>''')"
   ]
  },
  {
   "cell_type": "markdown",
   "metadata": {
    "slideshow": {
     "slide_type": "subslide"
    },
    "tags": [
     "{",
     "\"tags\":",
     "[",
     "\"to_remove\"",
     "]",
     "\"slideshow\":",
     "\"slide_type\":",
     "\"fragment\"",
     "}"
    ]
   },
   "source": [
    "## Friday shows spikes in rentals with Wednesday and Thursday following."
   ]
  },
  {
   "cell_type": "markdown",
   "metadata": {
    "slideshow": {
     "slide_type": "slide"
    },
    "tags": [
     "{",
     "\"tags\":",
     "[",
     "\"to_remove\"",
     "]",
     "\"slideshow\":",
     "\"slide_type\":",
     "\"fragment\"",
     "}"
    ]
   },
   "source": [
    "## Percentage of bike rides per weekday"
   ]
  },
  {
   "cell_type": "code",
   "execution_count": 20,
   "metadata": {
    "hideCode": false,
    "hidePrompt": true,
    "tags": [
     "{",
     "\"tags\":",
     "[",
     "\"to_remove\"",
     "]",
     "\"slideshow\":",
     "\"slide_type\":",
     "\"fragment\"",
     "}"
    ]
   },
   "outputs": [
    {
     "data": {
      "text/html": [
       "<script>\n",
       "code_show=true; \n",
       "function code_toggle() {\n",
       " if (code_show){\n",
       " $('div.input').hide();\n",
       " } else {\n",
       " $('div.input').show();\n",
       " }\n",
       " code_show = !code_show\n",
       "} \n",
       "$( document ).ready(code_toggle);\n",
       "</script>\n",
       "<form action=\"javascript:code_toggle()\"><input type=\"submit\" value=\"Click here to toggle on/off the raw code.\"></form>"
      ],
      "text/plain": [
       "<IPython.core.display.HTML object>"
      ]
     },
     "execution_count": 20,
     "metadata": {},
     "output_type": "execute_result"
    },
    {
     "data": {
      "image/png": "[encoded data removed]",
      "text/plain": [
       "<Figure size 720x432 with 1 Axes>"
      ]
     },
     "metadata": {
      "needs_background": "light"
     },
     "output_type": "display_data"
    }
   ],
   "source": [
    "#calculate the percentage, start time\n",
    "trip_by_weekday_df = bikes_df_clean.groupby('start_time_weekday').agg({'bike_id':'count'})\n",
    "trip_by_weekday_df['perc'] = (trip_by_weekday_df['bike_id']/trip_by_weekday_df['bike_id'].sum())*100\n",
    "\n",
    "#usage the percentage with weekday for the percentage of bike rides perweek\n",
    "weekday = ['Mon', 'Tue', 'Wed', 'Thu', 'Fri', 'Sat', 'Sun']\n",
    "new_color = ['orange', 'orange', 'orange', 'orange', 'orange', 'orange', 'orange']\n",
    "trip_by_weekday_df.reindex(weekday)['perc'].plot( kind='bar', color=new_color, figsize=(10,6), legend=False)\n",
    "plt.title('Percentage of all bike rides per weekday', fontsize=22, y=1.015)\n",
    "plt.xlabel('weekday', labelpad=16)\n",
    "plt.ylabel('percentage of rides', labelpad=16)\n",
    "plt.savefig('pic17.png')\n",
    "plt.grid()\n",
    "from IPython.display import HTML\n",
    "\n",
    "HTML('''<script>\n",
    "code_show=true; \n",
    "function code_toggle() {\n",
    " if (code_show){\n",
    " $('div.input').hide();\n",
    " } else {\n",
    " $('div.input').show();\n",
    " }\n",
    " code_show = !code_show\n",
    "} \n",
    "$( document ).ready(code_toggle);\n",
    "</script>\n",
    "<form action=\"javascript:code_toggle()\"><input type=\"submit\" value=\"Click here to toggle on/off the raw code.\"></form>''')"
   ]
  },
  {
   "cell_type": "markdown",
   "metadata": {
    "slideshow": {
     "slide_type": "slide"
    },
    "tags": [
     "{",
     "\"tags\":",
     "[",
     "\"to_remove\"",
     "]",
     "\"slideshow\":",
     "\"slide_type\":",
     "\"fragment\"",
     "}"
    ]
   },
   "source": [
    "# Ford GoBike- Baywheels start and end destinations"
   ]
  },
  {
   "cell_type": "markdown",
   "metadata": {
    "slideshow": {
     "slide_type": "slide"
    },
    "tags": [
     "{",
     "\"tags\":",
     "[",
     "\"to_remove\"",
     "]",
     "\"slideshow\":",
     "\"slide_type\":",
     "\"fragment\"",
     "}"
    ]
   },
   "source": [
    "## Most popular start destination"
   ]
  },
  {
   "cell_type": "code",
   "execution_count": 21,
   "metadata": {
    "hideCode": false,
    "hidePrompt": true,
    "slideshow": {
     "slide_type": "subslide"
    },
    "tags": [
     "{",
     "\"tags\":",
     "[",
     "\"to_remove\"",
     "]",
     "\"slideshow\":",
     "\"slide_type\":",
     "\"fragment\"",
     "}"
    ]
   },
   "outputs": [
    {
     "data": {
      "text/html": [
       "<script>\n",
       "code_show=true; \n",
       "function code_toggle() {\n",
       " if (code_show){\n",
       " $('div.input').hide();\n",
       " } else {\n",
       " $('div.input').show();\n",
       " }\n",
       " code_show = !code_show\n",
       "} \n",
       "$( document ).ready(code_toggle);\n",
       "</script>\n",
       "<form action=\"javascript:code_toggle()\"><input type=\"submit\" value=\"Click here to toggle on/off the raw code.\"></form>"
      ],
      "text/plain": [
       "<IPython.core.display.HTML object>"
      ]
     },
     "execution_count": 21,
     "metadata": {},
     "output_type": "execute_result"
    },
    {
     "data": {
      "image/png": "[encoded data removed]",
      "text/plain": [
       "<Figure size 432x288 with 1 Axes>"
      ]
     },
     "metadata": {
      "needs_background": "light"
     },
     "output_type": "display_data"
    }
   ],
   "source": [
    "#plot the top ten popular start destionations\n",
    "bikes_df_clean['start_station_name'].value_counts().head(10).plot(kind='barh', color= \"orange\");\n",
    "plt.title('Most popular start destination', fontsize=22, y=1.015)\n",
    "plt.xlabel('usage times', labelpad=16)\n",
    "plt.ylabel('start destination', labelpad=16);\n",
    "from IPython.display import HTML\n",
    "\n",
    "HTML('''<script>\n",
    "code_show=true; \n",
    "function code_toggle() {\n",
    " if (code_show){\n",
    " $('div.input').hide();\n",
    " } else {\n",
    " $('div.input').show();\n",
    " }\n",
    " code_show = !code_show\n",
    "} \n",
    "$( document ).ready(code_toggle);\n",
    "</script>\n",
    "<form action=\"javascript:code_toggle()\"><input type=\"submit\" value=\"Click here to toggle on/off the raw code.\"></form>''')"
   ]
  },
  {
   "cell_type": "markdown",
   "metadata": {
    "slideshow": {
     "slide_type": "subslide"
    },
    "tags": [
     "{",
     "\"tags\":",
     "[",
     "\"to_remove\"",
     "]",
     "\"slideshow\":",
     "\"slide_type\":",
     "\"fragment\"",
     "}"
    ]
   },
   "source": [
    "##  Market St at 10th St to top start point."
   ]
  },
  {
   "cell_type": "markdown",
   "metadata": {
    "slideshow": {
     "slide_type": "slide"
    },
    "tags": [
     "{",
     "\"tags\":",
     "[",
     "\"to_remove\"",
     "]",
     "\"slideshow\":",
     "\"slide_type\":",
     "\"fragment\"",
     "}"
    ]
   },
   "source": [
    "## Most popular end destinations"
   ]
  },
  {
   "cell_type": "code",
   "execution_count": 22,
   "metadata": {
    "hideCode": false,
    "hidePrompt": true,
    "slideshow": {
     "slide_type": "slide"
    },
    "tags": [
     "{",
     "\"tags\":",
     "[",
     "\"to_remove\"",
     "]",
     "\"slideshow\":",
     "\"slide_type\":",
     "\"fragment\"",
     "}"
    ]
   },
   "outputs": [
    {
     "data": {
      "text/html": [
       "<script>\n",
       "code_show=true; \n",
       "function code_toggle() {\n",
       " if (code_show){\n",
       " $('div.input').hide();\n",
       " } else {\n",
       " $('div.input').show();\n",
       " }\n",
       " code_show = !code_show\n",
       "} \n",
       "$( document ).ready(code_toggle);\n",
       "</script>\n",
       "<form action=\"javascript:code_toggle()\"><input type=\"submit\" value=\"Click here to toggle on/off the raw code.\"></form>"
      ],
      "text/plain": [
       "<IPython.core.display.HTML object>"
      ]
     },
     "execution_count": 22,
     "metadata": {},
     "output_type": "execute_result"
    },
    {
     "data": {
      "image/png": "[encoded data removed]",
      "text/plain": [
       "<Figure size 432x288 with 1 Axes>"
      ]
     },
     "metadata": {
      "needs_background": "light"
     },
     "output_type": "display_data"
    }
   ],
   "source": [
    "#plot the top ten popular end destionations\n",
    "bikes_df_clean['end_station_name'].value_counts().head(10).plot(kind='barh', color= \"orange\");\n",
    "plt.title('Most popular end destination', fontsize=22, y=1.015)\n",
    "plt.xlabel('usage times', labelpad=16)\n",
    "plt.ylabel('end destination', labelpad=16);\n",
    "from IPython.display import HTML\n",
    "\n",
    "HTML('''<script>\n",
    "code_show=true; \n",
    "function code_toggle() {\n",
    " if (code_show){\n",
    " $('div.input').hide();\n",
    " } else {\n",
    " $('div.input').show();\n",
    " }\n",
    " code_show = !code_show\n",
    "} \n",
    "$( document ).ready(code_toggle);\n",
    "</script>\n",
    "<form action=\"javascript:code_toggle()\"><input type=\"submit\" value=\"Click here to toggle on/off the raw code.\"></form>''')"
   ]
  },
  {
   "cell_type": "markdown",
   "metadata": {
    "slideshow": {
     "slide_type": "subslide"
    }
   },
   "source": [
    "## San Francisco Caltrain(Townsend St at 4th St) most popular end point"
   ]
  }
 ],
 "metadata": {
  "celltoolbar": "Slideshow",
  "kernelspec": {
   "display_name": "Python 3",
   "language": "python",
   "name": "python3"
  },
  "language_info": {
   "codemirror_mode": {
    "name": "ipython",
    "version": 3
   },
   "file_extension": ".py",
   "mimetype": "text/x-python",
   "name": "python",
   "nbconvert_exporter": "python",
   "pygments_lexer": "ipython3",
   "version": "3.6.10"
  }
 },
 "nbformat": 4,
 "nbformat_minor": 4
}
